{
 "cells": [
  {
   "cell_type": "markdown",
   "metadata": {},
   "source": [
    "# 数据挖掘与机器学习"
   ]
  },
  {
   "cell_type": "markdown",
   "metadata": {},
   "source": [
    "## 导言"
   ]
  },
  {
   "cell_type": "markdown",
   "metadata": {},
   "source": [
    "本课程是《数据挖掘与机器学习》，主要介绍数据挖掘与机器学习的算法,课程的重点在于动手，因此也可以叫动手学数据挖掘与机器学习，如果纯粹的从理论介绍Data Mining和Machine Learning,会涉及大量的理论知识，公式推导，课程会比较枯燥，也比较难以理解，如果纯粹地介绍实现，大家可能不知道怎么来的，不知道如何改进算法。因此，本课程还是会注重理论与实践相结合，首先介绍一些理论知识，然后介绍算法的实现。特别是算法实现的时候，尽量不使用现在的机器学习框架来实现，现在的机器学习框架是一个黑盒，要实现一个机器学习算法用很少的代码就可以实现。"
   ]
  },
  {
   "cell_type": "markdown",
   "metadata": {},
   "source": [
    "## Data Mining与Machine Learning能干什么"
   ]
  },
  {
   "cell_type": "markdown",
   "metadata": {},
   "source": [
    "“工欲善其事，必先利其器” ，现在人工智能那么火，而大家经常听到“数据挖掘”“机器学习”“深度学习”“大数据”等概念，除了要掌握概念以外，还要知道这些能干什么。   \n",
    "\n",
    "**数据挖掘**：从数据中挖掘知识、获取知识的过程。\n",
    "\n",
    "<b>机器学习</b>：一种数据驱动方法(data-driven approach)，不同于以往我们显式地通过编程告诉计算机如何进行计算。"
   ]
  },
  {
   "cell_type": "markdown",
   "metadata": {},
   "source": [
    "<b>数据挖掘与机器学习的应用</b>：  具有非常广泛的应用   \n",
    "<ul>\n",
    "    <li>商业智能</li>\n",
    "    <li>智能决策</li>\n",
    "    <li>网页搜索</li>\n",
    "    <li>商品推荐</li>\n",
    "    <li>垃圾邮件检测</li>\n",
    "    <li>语音识别</li>\n",
    "    <li>图像识别</li>\n",
    "    <li>自然语言处理</li>\n",
    "    <li>.....</li>\n",
    "</ul>\n"
   ]
  },
  {
   "cell_type": "markdown",
   "metadata": {},
   "source": [
    "大家日常用的手机里的应用（如：苹果的Siri、垃圾短信和电话过滤等）、用的一些新闻APP(今日头条、网易等)、社交APP（微信、Facebook、微博、知乎等）、电商（Taobao、Amazon、JD等）、搜索引擎（Google、Baidu）、视频（Yotube、Youku等）等等都用到了Data Mining和Machine Learning的技术。而目前大火的“深度学习”（Deep Learning）也是Machine Learning的一个分支。"
   ]
  },
  {
   "cell_type": "markdown",
   "metadata": {},
   "source": [
    "## 课程内容"
   ]
  },
  {
   "cell_type": "markdown",
   "metadata": {},
   "source": [
    "<ul>\n",
    "    <li>数据挖掘与机器学习的定义、分类</li>\n",
    "    <li>介绍相关数据基础：线性代数、概率论、信息论</li>\n",
    "    <li>Numpy、Pandas、Matplotlib包的使用</li>\n",
    "    <li>单变量线性回归：模型、实现</li>\n",
    "    <li>梯度下降算法：原理及实现</li>\n",
    "    <li>多变量线性回归：模型、实现</li>\n",
    "    <li>分类的概念与方法</li>\n",
    "    <li>常用分类算法：决策树、逻辑回归、神经网络等</li>\n",
    "    <li>无监督学习方法：聚类</li>\n",
    "    <li>关联规则挖掘</li>\n",
    "</ul>"
   ]
  },
  {
   "cell_type": "markdown",
   "metadata": {},
   "source": [
    "## 课程安排"
   ]
  },
  {
   "cell_type": "markdown",
   "metadata": {},
   "source": [
    "课程时间：\n",
    " * 数据挖掘与机器学习1-16周(双)  (第7-8节) SD308\n",
    " * 数据挖掘与机器学习1-16周(双)  (第5-6节) 信息楼305（口译机房）\n",
    " * 数据挖掘与机器学习1-18周(单)  (第5-6节) SA202\n",
    " \n",
    "具体安排：\n",
    "<ul>\n",
    "    <li>第一周：Introduction:机器学习与数据挖掘的基本概念、应用</li>\n",
    "    <li>第二周：数学基础:线性代数、概率论、信息论回顾</li>\n",
    "    <li>第三周：Numpy介绍</li>\n",
    "    <li>第四周：Pandas、Matplotlib包介绍</li>\n",
    "    <li>第五周：单变量线性回归</li>\n",
    "    <li>第六周：梯度下降算法</li>\n",
    "    <li>第七周：多变量线性回归</li>\n",
    "    <li>第八周：算法实践与作业演示</li>\n",
    "    <li>第九周：分类之决策树</li>\n",
    "    <li>第十周：分类之K近邻算法</li>\n",
    "    <li>第十一周：分类之朴素贝叶斯</li>\n",
    "    <li>第十二周：分类之逻辑回归</li>\n",
    "    <li>第十三周：分类之神经网络（1）</li>\n",
    "    <li>第十四周：分类之神经网络（2）</li>\n",
    "    <li>第十五周：聚类（1）</li>\n",
    "    <li>第十六周：聚类（2）</li>\n",
    "    <li>第十七周：关联规则挖掘</li>\n",
    "    <li>第十八周：复习与考试</li>\n",
    "</ul>"
   ]
  },
  {
   "cell_type": "markdown",
   "metadata": {},
   "source": [
    "## 参考教材"
   ]
  },
  {
   "cell_type": "markdown",
   "metadata": {},
   "source": [
    "<ul>\n",
    "    <li>数据挖掘导论——[美]Pang-Ning Tan（**）</li>\n",
    "    <li>统计学习方法——李航（**）</li>\n",
    "    <li>机器学习——周志华</li>\n",
    "    <li>机器学习实战——Peter Harrington</li>\n",
    "    <li>集体智慧编程——Toby Segaran</li>\n",
    "</ul>"
   ]
  },
  {
   "cell_type": "markdown",
   "metadata": {},
   "source": [
    "## 网络资源\n",
    "Adrew Ng的Coursera公开课《Machine Learning》"
   ]
  },
  {
   "cell_type": "markdown",
   "metadata": {},
   "source": [
    "## 开发环境\n",
    "* Python语言\n",
    "* numpy+pandas+matplotlib\n",
    "* sklearn机器学习包\n",
    "* tensorflow机器学平台（Caffe、Keras）等\n",
    "\n",
    "## 工具安装\n",
    "* anoconda + tensorflow"
   ]
  },
  {
   "cell_type": "markdown",
   "metadata": {},
   "source": [
    "## 联系方式\n",
    "<ul>\n",
    "    <li>邮箱：liangliang@suibe.edu.cn</li>\n",
    "    <li>办公室：信息楼435</li>\n",
    "</ul>"
   ]
  },
  {
   "cell_type": "markdown",
   "metadata": {},
   "source": [
    "## 坐班答疑\n",
    "* 周一1-8 1-17周\n",
    "* 周二1-4 1-17周\n",
    "* 周四3-4,7-8 1-17周\n",
    "\n",
    "## 自习辅导 \n",
    "* 周二9-10 1-15周\n"
   ]
  }
 ],
 "metadata": {
  "kernelspec": {
   "display_name": "Python 3",
   "language": "python",
   "name": "python3"
  },
  "language_info": {
   "codemirror_mode": {
    "name": "ipython",
    "version": 3
   },
   "file_extension": ".py",
   "mimetype": "text/x-python",
   "name": "python",
   "nbconvert_exporter": "python",
   "pygments_lexer": "ipython3",
   "version": "3.7.3"
  }
 },
 "nbformat": 4,
 "nbformat_minor": 2
}
